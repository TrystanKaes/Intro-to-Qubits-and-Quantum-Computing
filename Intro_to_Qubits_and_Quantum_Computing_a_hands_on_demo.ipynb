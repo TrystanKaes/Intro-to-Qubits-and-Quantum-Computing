{
  "nbformat": 4,
  "nbformat_minor": 0,
  "metadata": {
    "colab": {
      "name": "Intro to Qubits and Quantum Computing: a hands on demo.ipynb",
      "provenance": [],
      "collapsed_sections": [
        "M0dVRApPd3ft",
        "SNJ0aRTzfJ3T",
        "Jt3yIgcmdvqX",
        "swOGR3MtZ31_"
      ],
      "include_colab_link": false
    },
    "kernelspec": {
      "name": "python3",
      "display_name": "Python 3"
    },
    "language_info": {
      "name": "python"
    }
  },
  "cells": [
    {
      "cell_type": "markdown",
      "metadata": {
        "id": "view-in-github",
        "colab_type": "text"
      },
      "source": [
        "<a href=\"https://colab.research.google.com/github/TrystanKaes/IntroToQuantum/blob/main/Intro_to_Qubits_and_Quantum_Computing_a_hands_on_demo.ipynb\" target=\"_parent\"><img src=\"https://colab.research.google.com/assets/colab-badge.svg\" alt=\"Open In Colab\"/></a>"
      ]
    },
    {
      "cell_type": "markdown",
      "metadata": {
        "id": "M0dVRApPd3ft"
      },
      "source": [
        "# Intro to Qubits and Quantum Computing:\n",
        "> ##### a hands on demo\n",
        "---\n",
        "\n",
        "\\\n",
        "\n",
        "It is super simple, I promise.\n"
      ]
    },
    {
      "cell_type": "markdown",
      "metadata": {
        "id": "m9wT9r27rSsd"
      },
      "source": [
        "*Lets bring in some tools.*"
      ]
    },
    {
      "cell_type": "code",
      "metadata": {
        "id": "YZmhZjWePBZF"
      },
      "source": [
        "import numpy as np\n",
        "from math import exp, sqrt"
      ],
      "execution_count": null,
      "outputs": []
    },
    {
      "cell_type": "markdown",
      "metadata": {
        "id": "_gLRyw6VrYUQ"
      },
      "source": [
        "*This will be useful later.*"
      ]
    },
    {
      "cell_type": "code",
      "metadata": {
        "id": "3ElOMoHxbXPE"
      },
      "source": [
        "def measure(qubit):\n",
        "  print(f\"{qubit[0]}\\n{qubit[1]}\")"
      ],
      "execution_count": null,
      "outputs": []
    },
    {
      "cell_type": "markdown",
      "metadata": {
        "id": "E1nm91A3d-2E"
      },
      "source": [
        "---"
      ]
    },
    {
      "cell_type": "markdown",
      "metadata": {
        "id": "gZqJevvwDiEZ"
      },
      "source": [
        "# Some Quick Basics\n",
        "> where we start\n",
        "---"
      ]
    },
    {
      "cell_type": "markdown",
      "metadata": {
        "id": "vwgmHgkiDoie"
      },
      "source": [
        "Before we jump down the rabbit hole we need to accept two truths about the universe that may feel uncomfortable at first but aren't as scary as they seem."
      ]
    },
    {
      "cell_type": "markdown",
      "metadata": {
        "id": "1PNOIazRGBXK"
      },
      "source": [
        "1) A system in a definite state can still behave randomly. \\\n",
        "2) Two disparate systems that each are behaving randomly on their own can be strongly correlated."
      ]
    },
    {
      "cell_type": "markdown",
      "metadata": {
        "id": "ApC2K3BJO1JJ"
      },
      "source": [
        "*NOTE: While it can be dangerous to impose known paradigms onto unknown ones, it can help us gather intuition or help us to realize the unknown one is not THAT out there.*"
      ]
    },
    {
      "cell_type": "markdown",
      "metadata": {
        "id": "4c_dmfkLG3b5"
      },
      "source": [
        "Let's start with this first one and find some anecdotal intuition.\n",
        "> *A system in a definite state can still behave randomly.*\n",
        "\n",
        "Let's imagine a two-sided coin. \n",
        "\n"
      ]
    },
    {
      "cell_type": "markdown",
      "metadata": {
        "id": "Y7ymGX1CL5ZY"
      },
      "source": [
        "\n",
        "\n",
        "<img src=\"https://farm1.staticflickr.com/63/200867665_3a892f2f27.jpg\" alt=\"two sided coin\" width=\"500\"/>"
      ]
    },
    {
      "cell_type": "markdown",
      "metadata": {
        "id": "tbu9VkBgL7BN"
      },
      "source": [
        "This coin can be *either* heads up *or* heads down but not both at the same time. This would be impossible. So we have two states:\n",
        "\n",
        "1) Heads up\\\n",
        "2) Heads down"
      ]
    },
    {
      "cell_type": "markdown",
      "metadata": {
        "id": "c2a7gLfnMXmz"
      },
      "source": [
        "What if we now flip the coin?"
      ]
    },
    {
      "cell_type": "markdown",
      "metadata": {
        "id": "GZsAwfTSMeFi"
      },
      "source": [
        "![Coin Flip](https://media.giphy.com/media/t0LLDtbze3Q1VY7Cbl/giphy.gif)"
      ]
    },
    {
      "cell_type": "markdown",
      "metadata": {
        "id": "sgGky1o8NHOM"
      },
      "source": [
        "Once it is spinning in the air we know that it has a 50% chance of our first state *(heads up)* and a 50% chance of our second state *(tails up)*.\n",
        "\n",
        "This state of rotation with a deterministic probability **IS** a definite state. It is definite that the outcome will be 50/50. \n",
        "\n",
        "In this paradigm we then have a system in a definite state that will give a random outcome, a definite random outcome. \n"
      ]
    },
    {
      "cell_type": "markdown",
      "metadata": {
        "id": "9a2WOJ9pNW-m"
      },
      "source": [
        "The second truth:\n",
        "> Two disparate systems that each are behaving randomly on their own can be strongly correlated."
      ]
    },
    {
      "cell_type": "markdown",
      "metadata": {
        "id": "X33WefC3QGMC"
      },
      "source": [
        "To understand this one we will leverage the age old probability trope, the bag of marbles. \n",
        "\n",
        "<img src='https://external-content.duckduckgo.com/iu/?u=https%3A%2F%2Fwww.shmoop.com%2Fimages%2Fprealgebra%2Funit5%2Fpa.5.107.png&f=1&nofb=1' alt='marble bag'>"
      ]
    },
    {
      "cell_type": "markdown",
      "metadata": {
        "id": "FlqqG_OqRGo4"
      },
      "source": [
        "Let's say that I have two empty bags and I place two marbles in each one, a red and a green in the first and a blue and orange one in the second. \n",
        "\n",
        "I have created two systems: \n",
        "- Red/Green Marble Bag\n",
        "- Blue/Orange Marble Bag\n",
        "\n",
        "Each one has a 50% chance of pulling out a specific color. They each are seperate from eachother and have their own individual \"randomness\".\n",
        "\n",
        "Let's say that I hand you both bags without telling you which is which. You reach into one of the bags and pull out an orange marble. \n",
        "\n",
        "Three things happen:\n",
        "- You have the *Orange* marble and have experienced the randomness of one of the systems.\n",
        "- You know that the other marble in that bag is *Blue*.\n",
        "- You know that the other bag holds a *Red* marble and a *Green* marble.\n",
        "\n",
        "In this moment you have experienced two seperate systems with individual randomness that have no control over the other have strong correlations. "
      ]
    },
    {
      "cell_type": "markdown",
      "metadata": {
        "id": "FfMlp1P0djo2"
      },
      "source": [
        "Now that we understand these truths and how we experience these kinds of systems on a daily basis, let's dive in to quantum computing."
      ]
    },
    {
      "cell_type": "markdown",
      "metadata": {
        "id": "Nir3woxqeqcY"
      },
      "source": [
        "# What is a Qubit?\n",
        "\n",
        "> or \"Can things be what they are and also not?\"\n",
        "\n",
        "---"
      ]
    },
    {
      "cell_type": "markdown",
      "metadata": {
        "id": "AWYR_T5FDcUD"
      },
      "source": [
        "A core concept within quantum computing is the qubit. It is famous for being two things at the same time and only 'collapsing' into one of the states when we look at it. What does that actually mean?"
      ]
    },
    {
      "cell_type": "markdown",
      "metadata": {
        "id": "3kLt266BeRWu"
      },
      "source": [
        "Let's revisit our coin flip example. When the coin is sitting flat on a table it is in two possible states:\n",
        "- Face up \n",
        "- Tail up\n",
        "\n",
        "<img align='center' src=\"https://blog.melanietoniaevans.com/wp-content/uploads/2014/10/twosidesofthesamecoin-large.png\" alt=\"two sided coin\" width=\"200\"/>\n",
        "\n",
        "\n",
        "We can use this as an effective real world model of classical computing:\n",
        "- 0:Heads\n",
        "- 1:Tails"
      ]
    },
    {
      "cell_type": "markdown",
      "metadata": {
        "id": "Oso7pce3epkL"
      },
      "source": [
        "What if I flip the coin?\n",
        "\n",
        "![Coin Flip](https://media.giphy.com/media/t0LLDtbze3Q1VY7Cbl/giphy.gif)\n",
        "\n",
        "What is it's state while it is suspended in the air?\n"
      ]
    },
    {
      "cell_type": "markdown",
      "metadata": {
        "id": "_PJ5PMCfghD_"
      },
      "source": [
        "Until it comes back to my hand, we don't know. What we do know is that there is a 50% chance that it is Heads and a 50% chance that it is Tails.\n",
        "\n",
        "We could say that our coin is in a superposition of heads *and* tails. Once the coin is safely back in hand it has collapsed into one of our two states, Heads *or* Tails. "
      ]
    },
    {
      "cell_type": "markdown",
      "metadata": {
        "id": "Q0KPJSBJhNGV"
      },
      "source": [
        "What happens if I choose Heads, flip my coin, and while it is in the state of superposition I change my mind and choose Tails? The chance of my outcome didn't change but I did just swap the 'side' of the probability I am rooting for. You could say that I applied a not to my outcome.\n",
        "\n",
        "What if during the coins suspension we could alter the probability of the outcomes in more complex ways? \n",
        "\n",
        "- 50/50?\n",
        "- 30/70?\n",
        "- 20/80?\n",
        "- 80/20?\n",
        "\n",
        "So much information could be encoded into this probability! \n",
        "\n",
        "\n",
        "With a qubit we can do this."
      ]
    },
    {
      "cell_type": "markdown",
      "metadata": {
        "id": "wRsujxj7emVX"
      },
      "source": [
        "Our qubit encodes our outcomes as a linear combination of the two possible states and this state can be written as a two-demensional vector. "
      ]
    },
    {
      "cell_type": "markdown",
      "metadata": {
        "id": "SNJ0aRTzfJ3T"
      },
      "source": [
        "### Zero\n",
        "We will notate our \"0\" state as $| 0 \\rangle$ and it's state will be represented as the $2 \\times 1$ vector, $\\begin{pmatrix} 1 \\\\ 0 \\end{pmatrix}$.\n",
        "\n",
        "\n",
        "We can write this programmatically as a list with two elements:\n",
        "\n",
        "```\n",
        "[1, 0]\n",
        "```\n",
        "\n",
        "100% chance of a 0.\n",
        "\n",
        "---"
      ]
    },
    {
      "cell_type": "markdown",
      "metadata": {
        "id": "HGvItMUVj7Zb"
      },
      "source": [
        "### One\n",
        "We will notate our \"1\" state as $| 1 \\rangle$ and it's state will be represented as the $2 \\times 1$ vector, $\\begin{pmatrix} 0 \\\\ 1 \\end{pmatrix}$.\n",
        "\n",
        "\n",
        "We can write *this* programmatically as another list with two elements:\n",
        "\n",
        "```\n",
        "[0, 1]\n",
        "```\n",
        "100% chance of a 1.\n",
        "\n",
        "---"
      ]
    },
    {
      "cell_type": "markdown",
      "metadata": {
        "id": "ICLwaw3Tcc34"
      },
      "source": [
        "Putting the two together we have our programatic qubit. \n",
        "\n",
        "> *(For ease of manipulation we will use a numpy array.)*\n",
        "\n"
      ]
    },
    {
      "cell_type": "code",
      "metadata": {
        "id": "p3K6rQlDaC7H"
      },
      "source": [
        "qubit = np.array([[1,0],\n",
        "                  [0,1]])"
      ],
      "execution_count": 49,
      "outputs": []
    },
    {
      "cell_type": "markdown",
      "metadata": {
        "id": "e5ZxwjwLlfzG"
      },
      "source": [
        "---\n",
        "For now we have given it two states:"
      ]
    },
    {
      "cell_type": "markdown",
      "metadata": {
        "id": "Yg4MIANBmgNe"
      },
      "source": [
        "\n",
        "\n",
        "$| 0 \\rangle$: ```qubit[0]```"
      ]
    },
    {
      "cell_type": "code",
      "metadata": {
        "colab": {
          "base_uri": "https://localhost:8080/"
        },
        "id": "5uLpe4iackjN",
        "outputId": "11a8e984-bda9-47c6-cc91-6642480ef26c"
      },
      "source": [
        "measure(qubit[0])"
      ],
      "execution_count": 50,
      "outputs": [
        {
          "output_type": "stream",
          "text": [
            "1\n",
            "0\n"
          ],
          "name": "stdout"
        }
      ]
    },
    {
      "cell_type": "markdown",
      "metadata": {
        "id": "wq3pc-VCmlha"
      },
      "source": [
        "---\n",
        "$| 1 \\rangle$: ```qubit[1]```"
      ]
    },
    {
      "cell_type": "code",
      "metadata": {
        "colab": {
          "base_uri": "https://localhost:8080/"
        },
        "id": "G72NVy8pdous",
        "outputId": "da154657-b1d5-423e-b5a4-1814ff18c76c"
      },
      "source": [
        "measure(qubit[1])"
      ],
      "execution_count": 51,
      "outputs": [
        {
          "output_type": "stream",
          "text": [
            "0\n",
            "1\n"
          ],
          "name": "stdout"
        }
      ]
    },
    {
      "cell_type": "markdown",
      "metadata": {
        "id": "Z1MbRFjPn1RR"
      },
      "source": [
        "---"
      ]
    },
    {
      "cell_type": "markdown",
      "metadata": {
        "id": "jy5oSdHjlMei"
      },
      "source": [
        "The specifics of how we implement a qubit on hardware is an ongoing field of research. Functionally all we need is a system that we can put into a state of alterable superposition. \n",
        "\n",
        "Existing implementations have used supercooled superconductors that hold energy in a controlled enviroment as isolated from outside interference as possible. Leveraging these systems we can balance energy into specific superposition'd \"states\"."
      ]
    },
    {
      "cell_type": "markdown",
      "metadata": {
        "id": "xAj9W8O1ehXQ"
      },
      "source": [
        "# Gates\n",
        "\n",
        "> So what about gates? How do we **do** stuff?\n",
        "\n",
        "---"
      ]
    },
    {
      "cell_type": "markdown",
      "metadata": {
        "id": "yosI1oXRp2vv"
      },
      "source": [
        "Remember our qubit from before? We need to be able to change its state somehow."
      ]
    },
    {
      "cell_type": "markdown",
      "metadata": {
        "id": "Jt3yIgcmdvqX"
      },
      "source": [
        "## The Not\n",
        "Let's start with one of the simplest gates in classical computing, the **not**. In classic computing if we \"not\" a 1, it becomes a 0 and if we \"not\" a 0 it becomes a 1. How should we go about effecting this behavior from our qubit? \n",
        "\n",
        "Matrix multiplication! \n",
        "\n",
        "\n",
        "We just need to find the right matrix. . . \n",
        "\n",
        "---"
      ]
    },
    {
      "cell_type": "markdown",
      "metadata": {
        "id": "QRrdKE7Lpb8I"
      },
      "source": [
        "Let's try a $2\\times 2$ backwards identity matrix.\n",
        " \n",
        "We will define our gate as the backwards identity matrix and notate it with the symbol, $\\bigoplus$:\n",
        "\n",
        "$\\bigoplus = \\begin{pmatrix} 0 && 1 \\\\ 1 && 0 \\end{pmatrix}$"
      ]
    },
    {
      "cell_type": "markdown",
      "metadata": {
        "id": "xDLFxTAiyInJ"
      },
      "source": [
        "The bahavior that we expect is:\n",
        "\n",
        "$\\begin{pmatrix} 0 && 1 \\\\ 1 && 0 \\end{pmatrix} \\times \\begin{pmatrix} \\alpha \\\\ \\beta \\end{pmatrix} = \\begin{pmatrix} \\beta \\\\ \\alpha \\end{pmatrix}$\n",
        "\n",
        "Let's put it into action."
      ]
    },
    {
      "cell_type": "code",
      "metadata": {
        "id": "_xi6W5Ujdz1u",
        "colab": {
          "base_uri": "https://localhost:8080/"
        },
        "outputId": "345ea1ed-08e2-4216-8ee2-da2f000f3dd2"
      },
      "source": [
        "NOT = np.array([[0,1],\n",
        "                [1,0]])\n",
        "\n",
        "qu = qubit[0] # Start at |0>, our zero state\n",
        "measure(qu)"
      ],
      "execution_count": null,
      "outputs": [
        {
          "output_type": "stream",
          "text": [
            "1\n",
            "0\n"
          ],
          "name": "stdout"
        }
      ]
    },
    {
      "cell_type": "markdown",
      "metadata": {
        "id": "jS_6RKjn00Xn"
      },
      "source": [
        "*(We'll use numpy's matrix multiplication function to \"activate\" our gate.)*"
      ]
    },
    {
      "cell_type": "code",
      "metadata": {
        "id": "Em2R92SH0vNF"
      },
      "source": [
        "qu = np.matmul(NOT, qu)"
      ],
      "execution_count": null,
      "outputs": []
    },
    {
      "cell_type": "markdown",
      "metadata": {
        "id": "_vN-RZHk0pxB"
      },
      "source": [
        "We expect now that we will be in our $|1\\rangle$ state, $\\begin{pmatrix}0\\\\1\\end{pmatrix}$.\n",
        "\n",
        "Let's measure."
      ]
    },
    {
      "cell_type": "code",
      "metadata": {
        "colab": {
          "base_uri": "https://localhost:8080/"
        },
        "id": "ctv1PdhKVJAP",
        "outputId": "35353182-447d-42ac-9a02-8599d09e1438"
      },
      "source": [
        "measure(qu)"
      ],
      "execution_count": null,
      "outputs": [
        {
          "output_type": "stream",
          "text": [
            "0\n",
            "1\n"
          ],
          "name": "stdout"
        }
      ]
    },
    {
      "cell_type": "markdown",
      "metadata": {
        "id": "i3WdL2a_1mMq"
      },
      "source": [
        "It worked! But can we change it back the same way?"
      ]
    },
    {
      "cell_type": "code",
      "metadata": {
        "id": "qce3q2UyXHas",
        "colab": {
          "base_uri": "https://localhost:8080/"
        },
        "outputId": "900625e5-72f0-467b-fd8a-21c41c3cbb6e"
      },
      "source": [
        "qu = np.matmul(NOT,qu)\n",
        "measure(qu)"
      ],
      "execution_count": null,
      "outputs": [
        {
          "output_type": "stream",
          "text": [
            "1\n",
            "0\n"
          ],
          "name": "stdout"
        }
      ]
    },
    {
      "cell_type": "markdown",
      "metadata": {
        "id": "UE-lOyRc1wLC"
      },
      "source": [
        "Look! We made a not gate. "
      ]
    },
    {
      "cell_type": "markdown",
      "metadata": {
        "id": "TTJm_taB10wA"
      },
      "source": [
        "That is all well and good, but all we've done so far is make a classical system. What about all this quantum stuff?\n",
        "\n",
        "Let's try some superpostition."
      ]
    },
    {
      "cell_type": "markdown",
      "metadata": {
        "id": "swOGR3MtZ31_"
      },
      "source": [
        "## The Hadamard\n",
        "How do we get our qubit into a state of superposition? Conveniently a man named Jacques Hadamard already solved this problem for us. You can check out the details [here](https://en.wikipedia.org/wiki/Hadamard_transform). \n",
        "\n",
        "For our purposes we will just wave our hands and say that our Hadamard gate is defined by another matrix:\n",
        "\n",
        " $H = \\frac{1}{\\sqrt{2}}\\begin{pmatrix}1 && 1\\\\ 1 && -1\\end{pmatrix}$\n",
        "\n",
        "\\\n",
        "\n",
        " Let's see what happens when we put it to use."
      ]
    },
    {
      "cell_type": "markdown",
      "metadata": {
        "id": "GgmFhZ9X3igG"
      },
      "source": [
        "The Hadamard gate will put our qubit into a superposition with a 50% change of being 0 and a 50% chance of being 1. This is a third state, 1 *or* 0. "
      ]
    },
    {
      "cell_type": "code",
      "metadata": {
        "id": "oW6m_8QrZz2R"
      },
      "source": [
        "H = 1/sqrt(2)*np.array([[1, 1],\n",
        "                        [1,-1]])\n",
        "qu = qubit[0] # Again we start with our |0> state"
      ],
      "execution_count": null,
      "outputs": []
    },
    {
      "cell_type": "code",
      "metadata": {
        "id": "gWdY3hiOXHnK"
      },
      "source": [
        "qu = np.matmul(H, qu) # => H * qu"
      ],
      "execution_count": null,
      "outputs": []
    },
    {
      "cell_type": "code",
      "metadata": {
        "id": "RQnAlnlxX3Pb",
        "colab": {
          "base_uri": "https://localhost:8080/"
        },
        "outputId": "68acfaa1-1c01-4212-cce4-b259403e6bbb"
      },
      "source": [
        "measure(qu)"
      ],
      "execution_count": null,
      "outputs": [
        {
          "output_type": "stream",
          "text": [
            "0.7071067811865475\n",
            "0.7071067811865475\n"
          ],
          "name": "stdout"
        }
      ]
    },
    {
      "cell_type": "markdown",
      "metadata": {
        "id": "-z2bOuG65BY4"
      },
      "source": [
        "Now we have a some floating points. What does that mean? \n",
        "\n",
        "To figure this out we will turn our attention to an equation that gives us the state of our qubit at a given point.\n",
        "\n",
        "> $|\\psi\\rangle = \\sqrt{1-p}\\times|0\\rangle+e^{i\\varphi}\\times\\sqrt{p}|1\\rangle$\n",
        "\n",
        "\\\n",
        "\n",
        "Let's break this down:\n",
        "\n",
        "- $|\\psi\\rangle$ is the state.\n",
        "\n",
        "- $p$ is the probability of $|0\\rangle$.\n",
        "\n",
        "- $1-p$ is the probability of $|1\\rangle$.\n",
        "\n",
        "- $i$ is the complex *(imaginary)* unit.\n",
        "\n",
        "- $\\varphi$ is the quantum phase.\n",
        "\n",
        "\\\n",
        "\n",
        "For ease we will say that $\\varphi = 0$. This works because what we care about to determine state is the relative *change* in phase. For our purposes we do not need to know our starting point. \n",
        "\n",
        "\\\n",
        "\n",
        "Now that we have this equation, what is the state of our qubit if there is a 50% chance of 1 and a 50% chance of 0?\n",
        "\n",
        "We set $p=0.5$ to represent our 50/50 chance and plug it all into our state equation."
      ]
    },
    {
      "cell_type": "code",
      "metadata": {
        "id": "hJX3MA9XX7Bi"
      },
      "source": [
        "phase = 0\n",
        "i     = 0 # Since our phase is 0, our complex unit cancels out anyways.\n",
        "p     = 0.5"
      ],
      "execution_count": null,
      "outputs": []
    },
    {
      "cell_type": "markdown",
      "metadata": {
        "id": "cQwUoITOAsyy"
      },
      "source": [
        "\n",
        "> $|\\psi\\rangle = \\sqrt{1-p}\\times|0\\rangle+e^{i\\varphi}\\times\\sqrt{p}|1\\rangle$\n",
        "\n",
        "This $\\uparrow$ is the same as this $\\downarrow$. Just trust me."
      ]
    },
    {
      "cell_type": "code",
      "metadata": {
        "id": "z5bmUb2GaVko"
      },
      "source": [
        "state = ( sqrt(1-p)*qubit[0] + exp(i*phase)*sqrt(p)*qubit[1] ) "
      ],
      "execution_count": null,
      "outputs": []
    },
    {
      "cell_type": "markdown",
      "metadata": {
        "id": "pTmNB_4VBCxo"
      },
      "source": [
        "So what is the qubit's state when it has a 50/50 probability?"
      ]
    },
    {
      "cell_type": "code",
      "metadata": {
        "colab": {
          "base_uri": "https://localhost:8080/"
        },
        "id": "Xa0pe3XHBKjo",
        "outputId": "92bb189d-199a-4064-a1c6-b74f6dc927a5"
      },
      "source": [
        "measure(state)"
      ],
      "execution_count": null,
      "outputs": [
        {
          "output_type": "stream",
          "text": [
            "0.7071067811865476\n",
            "0.7071067811865476\n"
          ],
          "name": "stdout"
        }
      ]
    },
    {
      "cell_type": "markdown",
      "metadata": {
        "id": "tpsxWK5dBebk"
      },
      "source": [
        "That is exactly the same as when we applied our Hadamard gate! The H gate works! Our qubit is now in a state of superposition where it has a 50% chance of being a 0 and a 50% chance of being a 1."
      ]
    },
    {
      "cell_type": "markdown",
      "metadata": {
        "id": "AkePOXYRmsvD"
      },
      "source": [
        "## Other Gates\n",
        "\n",
        "Once we have our qubit in a state of superposition we can start manipulating the phase shift to control the probabalistic outcomes.\n",
        "\n",
        "\n",
        "To dig deeper into gates and the famed world of entanglement check out IBM's composer where you can program real Quantum Computers and explore many other concepts in the beautiful Quantum world.\n",
        "\n",
        "Create Quantum Programs: https://quantum-computing.ibm.com/composer\n",
        "\n",
        "Learn More About the Field: https://quantum-computing.ibm.com/composer/docs/iqx/\n"
      ]
    }
  ]
}
